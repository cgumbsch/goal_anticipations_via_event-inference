{
 "cells": [
  {
   "cell_type": "code",
   "execution_count": null,
   "metadata": {},
   "outputs": [],
   "source": [
    "import gym\n",
    "import interaction_gym\n",
    "import numpy as np\n",
    "import event_inference as event\n",
    "import random"
   ]
  },
  {
   "cell_type": "markdown",
   "metadata": {},
   "source": [
    "## Create model and environment"
   ]
  },
  {
   "cell_type": "code",
   "execution_count": null,
   "metadata": {},
   "outputs": [],
   "source": [
    "seed = 42"
   ]
  },
  {
   "cell_type": "code",
   "execution_count": null,
   "metadata": {},
   "outputs": [],
   "source": [
    "model = event.CAPRI(epsilon_start=0.01, epsilon_dynamics=0.001, epsilon_end=0.001,\n",
    "                    no_transition_prior=0.9, dim_observation=18, num_policies=3, \n",
    "                    num_models=4, r_seed=seed, sampling_rate=2)"
   ]
  },
  {
   "cell_type": "code",
   "execution_count": null,
   "metadata": {},
   "outputs": [],
   "source": [
    "env = interaction_gym.InteractionEventGym(sensory_noise_base=1.0, sensory_noise_focus=0.01, randomize_colors = True)"
   ]
  },
  {
   "cell_type": "markdown",
   "metadata": {},
   "source": [
    "## Collect data"
   ]
  },
  {
   "cell_type": "code",
   "execution_count": null,
   "metadata": {},
   "outputs": [],
   "source": [
    "event_input_data_list = [[], [], [], []]\n",
    "event_target_data_list = [[], [], [], []]\n",
    "for i in range(4):\n",
    "    event_input_data_list[i] = [[], [], []]\n",
    "    event_target_data_list[i] = [[], [], []]\n",
    "event_input_data_list"
   ]
  },
  {
   "cell_type": "code",
   "execution_count": null,
   "metadata": {},
   "outputs": [],
   "source": [
    "def component_name_to_index(name):\n",
    "    if name == 'start':\n",
    "        return 0\n",
    "    if name== 'dynamics':\n",
    "        return 1\n",
    "    return 2"
   ]
  },
  {
   "cell_type": "code",
   "execution_count": null,
   "metadata": {
    "scrolled": true
   },
   "outputs": [],
   "source": [
    "for episodes in range(10000):\n",
    "    \n",
    "    # Reset environment to new event sequence\n",
    "    observation = env.reset()\n",
    "    \n",
    "    # Sample one-hot-encoding of policy pi(0)\n",
    "    policy_t = np.array([0.0, 0.0, 0.0])\n",
    "    policy_t[random.randint(0, 2)] = 1\n",
    "    repeat = False\n",
    "    t = 0\n",
    "    for _ in range(3000):\n",
    "        \n",
    "        # Perform pi(t) and receive new observation o(t)\n",
    "        if not repeat:\n",
    "            observation, reward, done, info = env.step(policy_t)\n",
    "        \n",
    "        component, e_t, inputs, targets = model.get_offline_data(o_t=observation, pi_t=policy_t, done=done, e_i=info)\n",
    "        \n",
    "        #print(\"Comp =\", component, \" for \", e_t, \" at t =\", t)\n",
    "        \n",
    "        # If we reach the end of an event sequence we run get_offline_data twice:\n",
    "        # Once for the end data and once for the start data\n",
    "        if component == 'end':\n",
    "            repeat = True\n",
    "        else:\n",
    "            repeat = False\n",
    "            t += 1\n",
    "            \n",
    "        component_index = component_name_to_index(component)\n",
    "        event_input_data_list[e_t][component_index] += inputs\n",
    "        event_target_data_list[e_t][component_index] += targets\n",
    "        \n",
    "        # Next sequence when event sequence is over\n",
    "        if done:\n",
    "            print(\"Episode \", episodes, \" done after \", t , \" time steps\")\n",
    "            break\n",
    "env.close()"
   ]
  },
  {
   "cell_type": "markdown",
   "metadata": {},
   "source": [
    "## Store the data"
   ]
  },
  {
   "cell_type": "code",
   "execution_count": null,
   "metadata": {},
   "outputs": [],
   "source": [
    "def index_to_component_name(i):\n",
    "    if i == 0:\n",
    "        return 'start'\n",
    "    if i == 1:\n",
    "        return 'dynamics'\n",
    "    return 'end'"
   ]
  },
  {
   "cell_type": "code",
   "execution_count": null,
   "metadata": {},
   "outputs": [],
   "source": [
    "def get_event_name(e_i):\n",
    "    if e_i == 0:\n",
    "        return 'still'\n",
    "    if e_i == 1:\n",
    "        return 'rand'\n",
    "    if e_i == 2:\n",
    "        return 'reach'\n",
    "    return 'transport'"
   ]
  },
  {
   "cell_type": "code",
   "execution_count": null,
   "metadata": {},
   "outputs": [],
   "source": [
    "for e in range(4):\n",
    "    for c in range(3):\n",
    "        e_name = get_event_name(e)\n",
    "        comp_name = index_to_component_name(c)\n",
    "        np.save(\"Data/input_\" + e_name + \"_\" + comp_name, np.stack(event_input_data_list[e][c]))\n",
    "        np.save(\"Data/target_\" + e_name + \"_\" + comp_name, np.stack(event_target_data_list[e][c]))"
   ]
  }
 ],
 "metadata": {
  "kernelspec": {
   "display_name": "Python 3",
   "language": "python",
   "name": "python3"
  },
  "language_info": {
   "codemirror_mode": {
    "name": "ipython",
    "version": 3
   },
   "file_extension": ".py",
   "mimetype": "text/x-python",
   "name": "python",
   "nbconvert_exporter": "python",
   "pygments_lexer": "ipython3",
   "version": "3.8.8"
  }
 },
 "nbformat": 4,
 "nbformat_minor": 2
}
